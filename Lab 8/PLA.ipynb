{
  "nbformat": 4,
  "nbformat_minor": 0,
  "metadata": {
    "colab": {
      "name": "PLA || Assignment 7 .ipynb",
      "provenance": [],
      "collapsed_sections": []
    },
    "kernelspec": {
      "name": "python3",
      "display_name": "Python 3"
    },
    "language_info": {
      "name": "python"
    }
  },
  "cells": [
    {
      "cell_type": "code",
      "metadata": {
        "id": "mGn-Z2uqjUym"
      },
      "source": [
        "\n",
        "\n",
        "'''\n",
        "\n",
        "\n",
        "\n",
        "\n",
        "to check whether a numpy array ( 1D ) is present in numpy array ( 2D ), `in` operator doesn't work.\n",
        "\n",
        "https://www.geeksforgeeks.org/check-whether-a-numpy-array-contains-a-specified-row/\n",
        "change it to if( x in a.tolist())\n",
        "\n",
        "'''\n",
        "def converged(w,PUN,P,N):\n",
        "\n",
        "  count = 0\n",
        "\n",
        "  for x in PUN:\n",
        "\n",
        "    if (x in P) and np.dot(w,x) >= 0:\n",
        "      count += 1\n",
        "      \n",
        "    if (x in N) and np.dot(w,x) < 0 :\n",
        "      count += 1\n",
        "      \n",
        "\n",
        "\n",
        "  # print(count)\n",
        " \n",
        "  return count == len(PUN)\n",
        "\n"
      ],
      "execution_count": 1,
      "outputs": []
    },
    {
      "cell_type": "code",
      "metadata": {
        "colab": {
          "base_uri": "https://localhost:8080/"
        },
        "id": "pTNM0EHhj4UK",
        "outputId": "46a9b564-2d20-407d-806f-efc4aa775d11"
      },
      "source": [
        "import numpy as np\n",
        "import pandas as pd\n",
        "import random\n",
        "\n",
        "data = {'x0' : [1,1,1,1],\n",
        "        'x1' : [0,0,1,1],\n",
        "        'x2' : [0,1,0,1],\n",
        "        'y' : [0,0,0,1]}\n",
        "\n",
        "df = pd.DataFrame(data)\n",
        "\n",
        "P = ((df[df['y']!=0]).iloc[:,0:len(df.columns)-1]).values\n",
        "N =((df[df['y']!=1]).iloc[:,0:len(df.columns)-1]).values\n",
        "PUN = ((df.iloc[:,0:len(df.columns)-1]).values)\n",
        "\n",
        "'''\n",
        ".values\n",
        ".to_numpy()\n",
        "'''\n",
        "\n",
        "P = P.tolist()\n",
        "N = N.tolist()\n",
        "\n",
        "# P union N\n",
        "\n",
        "PUN = PUN.tolist()\n",
        "\n",
        "\n",
        "\n",
        "\n",
        "\n",
        "\n",
        "\n",
        "\n",
        "# df = np.array(df.values)\n",
        "w = [random.uniform(-0.3,0.3) for i in range(len(df.columns)-1)]\n",
        "\n",
        "\n",
        "print('Intial W : ',w)\n",
        "\n",
        "\n",
        "iter = 0\n",
        "\n",
        "while converged(w,PUN,P,N) != True:\n",
        "\n",
        "  x = random.choice(PUN)\n",
        "\n",
        "  if x in P and np.dot(w,x) < 0:\n",
        "    w = np.add(w,x)\n",
        "  \n",
        "  if x in N and np.dot(w,x) >= 0:\n",
        "    w = np.subtract(w,x)\n",
        "\n",
        "  iter += 1\n",
        "\n",
        "\n",
        "  \n",
        "print('Final W : ',w)\n",
        "\n",
        "print('Iterations : ',iter)\n"
      ],
      "execution_count": 2,
      "outputs": [
        {
          "output_type": "stream",
          "name": "stdout",
          "text": [
            "Intial W :  [0.02888771282115815, -0.14085440666813467, 0.28387296406115364]\n",
            "Final W :  [-0.97111229  0.85914559  0.28387296]\n",
            "Iterations :  7\n"
          ]
        }
      ]
    }
  ]
}