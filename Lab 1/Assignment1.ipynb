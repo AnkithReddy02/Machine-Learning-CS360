{
  "nbformat": 4,
  "nbformat_minor": 0,
  "metadata": {
    "colab": {
      "name": "Assignment1.ipynb",
      "provenance": [],
      "collapsed_sections": []
    },
    "kernelspec": {
      "name": "python3",
      "display_name": "Python 3"
    },
    "language_info": {
      "name": "python"
    }
  },
  "cells": [
    {
      "cell_type": "code",
      "metadata": {
        "colab": {
          "base_uri": "https://localhost:8080/"
        },
        "id": "gNy4PcQ87Nan",
        "outputId": "27951f3f-f0b5-489b-cf10-8c00bb4728d8"
      },
      "source": [
        "# part 1\n",
        "from google.colab import drive\n",
        "drive.mount('/content/drive')\n",
        "\n",
        "import numpy as np\n",
        "a0 = np.zeros(10)\n",
        "print(a0,'\\n')\n",
        "\n",
        "\n",
        "a1 = np.ones(10)\n",
        "print(a1,'\\n')\n",
        "\n",
        "\n",
        "# a5 = np.ones(10)*5\n",
        "a5 = np.full(10,5)\n",
        "\n",
        "print(a5,'\\n')\n",
        "\n",
        "res = np.concatenate((a0,a1,a5))\n",
        "print(res)"
      ],
      "execution_count": null,
      "outputs": [
        {
          "output_type": "stream",
          "name": "stdout",
          "text": [
            "Mounted at /content/drive\n",
            "[0. 0. 0. 0. 0. 0. 0. 0. 0. 0.] \n",
            "\n",
            "[1. 1. 1. 1. 1. 1. 1. 1. 1. 1.] \n",
            "\n",
            "[5 5 5 5 5 5 5 5 5 5] \n",
            "\n",
            "[0. 0. 0. 0. 0. 0. 0. 0. 0. 0. 1. 1. 1. 1. 1. 1. 1. 1. 1. 1. 5. 5. 5. 5.\n",
            " 5. 5. 5. 5. 5. 5.]\n"
          ]
        }
      ]
    },
    {
      "cell_type": "markdown",
      "metadata": {
        "id": "-71ciYA7A-XH"
      },
      "source": [
        ""
      ]
    },
    {
      "cell_type": "code",
      "metadata": {
        "colab": {
          "base_uri": "https://localhost:8080/"
        },
        "id": "mGz_rRY787u3",
        "outputId": "fe240841-1818-413e-a1bf-d2b78a6a2d5c"
      },
      "source": [
        "# part 1 \n",
        "# 2)\n",
        "\n",
        "import numpy as np\n",
        "a = np.array([x for x in range(10,50+1) if (x%2==0)])\n",
        "\n",
        "print(a)\n",
        "\n"
      ],
      "execution_count": null,
      "outputs": [
        {
          "output_type": "stream",
          "name": "stdout",
          "text": [
            "[10 12 14 16 18 20 22 24 26 28 30 32 34 36 38 40 42 44 46 48 50]\n"
          ]
        }
      ]
    },
    {
      "cell_type": "code",
      "metadata": {
        "colab": {
          "base_uri": "https://localhost:8080/"
        },
        "id": "YzJ0DhCd_PZw",
        "outputId": "e11d5f8c-38c2-4a44-d63b-17e7862ab715"
      },
      "source": [
        "# part 1 \n",
        "# 3)\n",
        "\n",
        "import numpy as np\n",
        "\n",
        "a = np.random.random()\n",
        "print(a)\n"
      ],
      "execution_count": null,
      "outputs": [
        {
          "output_type": "stream",
          "name": "stdout",
          "text": [
            "0.7372161925917208\n"
          ]
        }
      ]
    },
    {
      "cell_type": "code",
      "metadata": {
        "colab": {
          "base_uri": "https://localhost:8080/"
        },
        "id": "1rkSPalfBH6s",
        "outputId": "03eafa3a-ac1b-4bb0-e56b-63172af09745"
      },
      "source": [
        "import numpy as np\n",
        "\n",
        "n = (int)(input('Number of rows of random between 0,1 : '))\n",
        "m = (int)(input('Number of cols of random between 0,1 : '))\n",
        "\n",
        "a = np.random.random((n,m))\n",
        "\n",
        "\n",
        "\n",
        "\n",
        "np.savetxt(\"a1p14.txt\",a)\n",
        "\n",
        "content = np.loadtxt(\"a1p14.txt\")\n",
        "\n",
        "print('Content of the file : ',content)"
      ],
      "execution_count": null,
      "outputs": [
        {
          "output_type": "stream",
          "name": "stdout",
          "text": [
            "Number of rows of random between 0,1 : 5\n",
            "Number of cols of random between 0,1 : 4\n",
            "Content of the file :  [[0.68781649 0.2666304  0.77730112 0.97985752]\n",
            " [0.85367395 0.0213521  0.70642571 0.29444973]\n",
            " [0.26963422 0.90122772 0.8515995  0.83336591]\n",
            " [0.20893182 0.72300406 0.83334909 0.64841937]\n",
            " [0.73178477 0.86051566 0.28093878 0.58986743]]\n"
          ]
        }
      ]
    },
    {
      "cell_type": "code",
      "metadata": {
        "colab": {
          "base_uri": "https://localhost:8080/"
        },
        "id": "JaGtS3QMKUmu",
        "outputId": "5680978f-a7d8-4882-86ad-40dbaa28119a"
      },
      "source": [
        "\n",
        "# part 2\n",
        "# 1)\n",
        "\n",
        "import numpy as np\n",
        "import pandas as pd\n",
        "import matplotlib.image as img\n",
        "\n",
        "imageMatrix = img.imread('/content/drive/MyDrive/5th sem/ML/MLLAB/wall.png',0)\n",
        "\n",
        "print(imageMatrix.shape)\n",
        "\n",
        "# converting the 3D into 2D matrix, first dimension is same and second is multiplication of the another 2 dimensions\n",
        "imageMatrixReshape = imageMatrix.reshape((imageMatrix.shape[0],imageMatrix.shape[1]*imageMatrix.shape[2]))\n",
        "\n",
        "#data frame is similar to sql table it has col and row\n",
        "df = pd.DataFrame(imageMatrixReshape)\n",
        "\n",
        "# print(df)\n",
        "# while writing to csv, if index = false, then data will be written without indices( which are present in data frame)\n",
        "\n",
        "df.to_csv('a1p21.csv',index=False)\n",
        "\n",
        "print(len(df))\n",
        "print(len(df.columns))\n",
        "print(df)\n",
        "# # extracting only n-1 cols and m-1 cols\n",
        "# # while reading csv it will read along with indices, although we excluded indices from dataframe to csv intially\n",
        "\n",
        "newDf = pd.read_csv('a1p21.csv',nrows=len(df)-1,usecols=range(len(df.columns)-1))\n",
        "print(newDf)\n",
        "# print(len(newDf))\n",
        "# print(len(newDf.columns))\n",
        "\n",
        "\n",
        "\n",
        "\n",
        "\n",
        "\n"
      ],
      "execution_count": null,
      "outputs": [
        {
          "output_type": "stream",
          "name": "stdout",
          "text": [
            "(1308, 736, 3)\n",
            "1308\n",
            "2208\n",
            "      0     1     2     3     4     5     ...  2202  2203  2204  2205  2206  2207\n",
            "0        0     0     0     0     0     0  ...     0     0     0     0     0     0\n",
            "1        0     0     0     0     0     0  ...     0     0     0     0     0     0\n",
            "2        0     0     0     0     0     0  ...     0     0     0     0     0     0\n",
            "3        0     0     0     0     0     0  ...     0     0     0     0     0     0\n",
            "4        0     0     0     0     0     0  ...     0     0     0     0     0     0\n",
            "...    ...   ...   ...   ...   ...   ...  ...   ...   ...   ...   ...   ...   ...\n",
            "1303     0     0     0     0     0     0  ...     0     0     0     0     0     0\n",
            "1304     0     0     0     0     0     0  ...     0     0     0     0     0     0\n",
            "1305     0     0     0     0     0     0  ...     0     0     0     0     0     0\n",
            "1306     0     0     0     0     0     0  ...     0     0     0     0     0     0\n",
            "1307     0     0     0     0     0     0  ...     0     0     0     0     0     0\n",
            "\n",
            "[1308 rows x 2208 columns]\n",
            "      0  1  2  3  4  5  6  7  ...  2199  2200  2201  2202  2203  2204  2205  2206\n",
            "0     0  0  0  0  0  0  0  0  ...     0     0     0     0     0     0     0     0\n",
            "1     0  0  0  0  0  0  0  0  ...     0     0     0     0     0     0     0     0\n",
            "2     0  0  0  0  0  0  0  0  ...     0     0     0     0     0     0     0     0\n",
            "3     0  0  0  0  0  0  0  0  ...     0     0     0     0     0     0     0     0\n",
            "4     0  0  0  0  0  0  0  0  ...     0     0     0     0     0     0     0     0\n",
            "...  .. .. .. .. .. .. .. ..  ...   ...   ...   ...   ...   ...   ...   ...   ...\n",
            "1302  0  0  0  0  0  0  0  0  ...     0     0     0     0     0     0     0     0\n",
            "1303  0  0  0  0  0  0  0  0  ...     0     0     0     0     0     0     0     0\n",
            "1304  0  0  0  0  0  0  0  0  ...     0     0     0     0     0     0     0     0\n",
            "1305  0  0  0  0  0  0  0  0  ...     0     0     0     0     0     0     0     0\n",
            "1306  0  0  0  0  0  0  0  0  ...     0     0     0     0     0     0     0     0\n",
            "\n",
            "[1307 rows x 2207 columns]\n"
          ]
        }
      ]
    },
    {
      "cell_type": "code",
      "metadata": {
        "colab": {
          "base_uri": "https://localhost:8080/"
        },
        "id": "b4u41XZkmeT_",
        "outputId": "06c1a233-e160-4d1b-822c-18ac8a36cdfc"
      },
      "source": [
        "\n",
        "# part 2\n",
        "# 2)\n",
        "\n",
        "import numpy as np\n",
        "import pandas as pd\n",
        "import matplotlib.image as img\n",
        "\n",
        "# imageMatrix = img.imread('/content/drive/My Drive/5th sem/ML/MLLAB/sample1.jpg')\n",
        "\n",
        "# # converting the 3D into 2D matrix, first dimension is same and second is multiplication of the another 2 dimensions\n",
        "# imageMatrixReshape = imageMatrix.reshape((imageMatrix.shape[0],imageMatrix.shape[1]*imageMatrix.shape[2]))\n",
        "\n",
        "# #data frame is similar to sql table it has col and row\n",
        "# df = pd.DataFrame(imageMatrixReshape)\n",
        "# # print(df)\n",
        "# # while writing to csv, if index = false, then data will be written without indices( which are present in data frame)\n",
        "\n",
        "# df.to_csv('a1p21.csv',index=False)\n",
        "\n",
        "# print(len(df))\n",
        "# print(len(df.columns))\n",
        "# extracting only n-1 cols and m-1 cols\n",
        "# while reading csv it will read along with indices, although we excluded indices from dataframe to csv intially\n",
        "\n",
        "newDf = pd.read_csv('a1p21.csv',nrows=len(df)-1,usecols=range(len(df.columns)-1))\n",
        "\n",
        "print(len(newDf))\n",
        "print(len(newDf.columns))\n",
        "print(newDf)\n",
        "\n",
        "\n",
        "\n",
        "\n",
        "\n",
        "\n"
      ],
      "execution_count": null,
      "outputs": [
        {
          "output_type": "stream",
          "name": "stdout",
          "text": [
            "1307\n",
            "2207\n",
            "      0  1  2  3  4  5  6  7  ...  2199  2200  2201  2202  2203  2204  2205  2206\n",
            "0     0  0  0  0  0  0  0  0  ...     0     0     0     0     0     0     0     0\n",
            "1     0  0  0  0  0  0  0  0  ...     0     0     0     0     0     0     0     0\n",
            "2     0  0  0  0  0  0  0  0  ...     0     0     0     0     0     0     0     0\n",
            "3     0  0  0  0  0  0  0  0  ...     0     0     0     0     0     0     0     0\n",
            "4     0  0  0  0  0  0  0  0  ...     0     0     0     0     0     0     0     0\n",
            "...  .. .. .. .. .. .. .. ..  ...   ...   ...   ...   ...   ...   ...   ...   ...\n",
            "1302  0  0  0  0  0  0  0  0  ...     0     0     0     0     0     0     0     0\n",
            "1303  0  0  0  0  0  0  0  0  ...     0     0     0     0     0     0     0     0\n",
            "1304  0  0  0  0  0  0  0  0  ...     0     0     0     0     0     0     0     0\n",
            "1305  0  0  0  0  0  0  0  0  ...     0     0     0     0     0     0     0     0\n",
            "1306  0  0  0  0  0  0  0  0  ...     0     0     0     0     0     0     0     0\n",
            "\n",
            "[1307 rows x 2207 columns]\n"
          ]
        }
      ]
    },
    {
      "cell_type": "code",
      "metadata": {
        "colab": {
          "base_uri": "https://localhost:8080/"
        },
        "id": "2Y1_OnW-Jeyq",
        "outputId": "917ccd38-9903-43a1-ed11-dba315ca6a67"
      },
      "source": [
        "# part 2\n",
        "# 3)\n",
        "import pandas as pd\n",
        "from datetime import date\n",
        "datenow = pd.to_datetime(\"now\").date()\n",
        "\n",
        "print(datenow)\n",
        "print((date.today()))\n",
        "\n"
      ],
      "execution_count": null,
      "outputs": [
        {
          "output_type": "stream",
          "name": "stdout",
          "text": [
            "2021-11-02\n",
            "2021-11-02\n"
          ]
        }
      ]
    },
    {
      "cell_type": "code",
      "metadata": {
        "colab": {
          "base_uri": "https://localhost:8080/"
        },
        "id": "v1ED9fehqzUq",
        "outputId": "ad84e35a-ca88-48be-fa49-6f3f84af4621"
      },
      "source": [
        "# part 3\n",
        "# 1)\n",
        "from datetime import date\n",
        "\n",
        "dob_year = (int)(input(\"Enter Year of Birth : \"))\n",
        "\n",
        "dob_month = (int)(input(\"Enter Month of Birth : \"))\n",
        "\n",
        "dob_day = (int)(input(\"Enter Date of Birth : \"))\n",
        "\n",
        "presentDate = date.today()\n",
        "\n",
        "diff = 0\n",
        "if(presentDate.month <= dob_month):\n",
        "\n",
        " if(presentDate.month < dob_month):\n",
        "   diff = 1\n",
        " elif(presentDate.day < dob_day):\n",
        "      diff = 1\n",
        "        \n",
        " \n",
        "\n",
        "currAge = (presentDate.year - dob_year) - diff\n",
        "print('Age is : ',currAge)\n",
        "\n"
      ],
      "execution_count": null,
      "outputs": [
        {
          "output_type": "stream",
          "name": "stdout",
          "text": [
            "Enter Year of Birth : 2002\n",
            "Enter Month of Birth : 8\n",
            "Enter Date of Birth : 3\n",
            "Age is :  19\n"
          ]
        }
      ]
    }
  ]
}