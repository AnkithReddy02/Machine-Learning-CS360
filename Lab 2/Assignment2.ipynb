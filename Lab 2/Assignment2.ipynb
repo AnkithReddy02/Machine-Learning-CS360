{
  "nbformat": 4,
  "nbformat_minor": 0,
  "metadata": {
    "colab": {
      "name": "Assignment2.ipynb",
      "provenance": [],
      "collapsed_sections": []
    },
    "kernelspec": {
      "name": "python3",
      "display_name": "Python 3"
    },
    "language_info": {
      "name": "python"
    }
  },
  "cells": [
    {
      "cell_type": "code",
      "metadata": {
        "colab": {
          "base_uri": "https://localhost:8080/"
        },
        "id": "fiEDxeNYMUNN",
        "outputId": "abaa87ab-b1f1-42b8-b723-510b9e868bec"
      },
      "source": [
        "from google.colab import drive\n",
        "drive.mount('/content/drive')"
      ],
      "execution_count": null,
      "outputs": [
        {
          "output_type": "stream",
          "name": "stdout",
          "text": [
            "Mounted at /content/drive\n"
          ]
        }
      ]
    },
    {
      "cell_type": "code",
      "metadata": {
        "id": "RQL20Jz0LkTG"
      },
      "source": [
        "import numpy as np\n",
        "import pandas as pd\n",
        "\n",
        "df = pd.read_csv('/content/drive/MyDrive/5th sem/ML/MLLAB/salary_data.csv')\n",
        "df_Salary = df.iloc[:,1:2] # returns dataframe\n",
        "df_YOE = df.iloc[:,0:1] # returns dataframe\n",
        "\n",
        "\n",
        "\n",
        "\n"
      ],
      "execution_count": null,
      "outputs": []
    },
    {
      "cell_type": "code",
      "metadata": {
        "colab": {
          "base_uri": "https://localhost:8080/"
        },
        "id": "tQeC21VvM7Xo",
        "outputId": "c9841043-2a90-498c-ee17-cacc4300a3f3"
      },
      "source": [
        "# Question 1)\n",
        "\n",
        "# number of patterns = number of rows \n",
        "# number of features = in  general number of columns -1 , last one is output\n",
        "# range = max - min\n",
        "print('Number of Patterns : ', len(df))\n",
        "print('Number of features : ', len(df.columns)-1)\n",
        "\n",
        "range_value = int(df_Salary.max()) - int(df_Salary.min())\n",
        "print('Range of Output : ',int(range_value))\n",
        "\n",
        "\n"
      ],
      "execution_count": null,
      "outputs": [
        {
          "output_type": "stream",
          "name": "stdout",
          "text": [
            "Number of Patterns :  30\n",
            "Number of features :  1\n",
            "Range of Output :  84660\n"
          ]
        }
      ]
    },
    {
      "cell_type": "code",
      "metadata": {
        "id": "rgeJYyJARBdf"
      },
      "source": [
        ""
      ],
      "execution_count": null,
      "outputs": []
    },
    {
      "cell_type": "code",
      "metadata": {
        "id": "-bOgWYJMReKU",
        "colab": {
          "base_uri": "https://localhost:8080/"
        },
        "outputId": "74182dbb-ee57-4a7c-e7ff-c05961636488"
      },
      "source": [
        "# Question 3)\n",
        "\n",
        "# # Column wise mean ( default axis = 0 which represents columns)\n",
        "# print('Column Wise Mean : ', list(df.mean()))\n",
        "# # Row wise mean ( axis = 1 which represents rows)\n",
        "print('Row Wise Mean : ', list(df.mean(axis = 1))) \n",
        "# # Overall Mean\n",
        "\n",
        "print('Overall Mean : ', (df.mean().mean()))\n",
        "\n",
        "# # returns series which can be converted to list.\n",
        "# print('Column Wise Median :', list(df.median()))\n",
        "# print('Row Wise Median :', list(df.median(axis=1)))\n",
        "# print('Overall Median :', (df.median().median()))\n",
        "\n",
        "# returns dataframe as there can be values with same frequency\n",
        "# print('Column Wise Mode :', (df.mode()))\n",
        "# print('Rows Wise Mode :', (df.mode(axis = 1))) print('Overall Mode :', df.mode().mode())\n",
        "\n",
        "\n",
        "# # series\n",
        "\n",
        "# print('Column wise Standard Deviation :', list(df.std()))\n",
        "\n",
        "# # series\n",
        "# print('Row wise standard Deviation :', (df.std(axis = 1)))\n",
        "\n",
        "# # float\n",
        "# print('Overall standard Deviation :', (df.std().std()))\n",
        "\n",
        "\n",
        "\n",
        "\n",
        "\n",
        "\n",
        "\n",
        "\n"
      ],
      "execution_count": null,
      "outputs": [
        {
          "output_type": "stream",
          "name": "stdout",
          "text": [
            "Row Wise Mean :  [19672.05, 23103.15, 18866.25, 21763.5, 19946.6, 28322.45, 30076.5, 27224.1, 32224.1, 28596.35, 31610.95, 27899.0, 28480.5, 28542.55, 30557.75, 33971.45, 33017.05, 41546.65, 40684.45, 46973.0, 45872.4, 49140.05, 50654.95, 56910.1, 54719.85, 52795.5, 58489.25, 56322.3, 61200.65, 60941.25]\n",
            "Overall Mean :  38004.15666666667\n"
          ]
        }
      ]
    },
    {
      "cell_type": "code",
      "metadata": {
        "colab": {
          "base_uri": "https://localhost:8080/"
        },
        "id": "q6wkxtnKV-72",
        "outputId": "e2ae6cca-3c87-40cf-a755-b90c29d0b3bb"
      },
      "source": [
        "# polynomial y = 3*x - 5\n",
        "\n",
        "\n",
        "#series / series length\n",
        "print((len(df[\"Salary\"])))\n",
        "# numpy array\n",
        "print((df[\"Salary\"].values))\n",
        "\n",
        "\n",
        "predicted_values = [3*x - 5 for x in df[\"Salary\"].values]\n",
        "\n",
        "\n",
        "print((predicted_values))\n",
        "\n",
        "\n",
        "SSE = 0\n",
        "for i in range(len(predicted_values)):\n",
        "  SSE += pow(df[\"Salary\"].values[i] - predicted_values[i] , 2 )\n",
        "\n",
        "\n",
        "print(SSE)\n",
        "\n",
        "# for i in predicted_values:\n",
        "#   print(i)\n",
        "\n",
        "\n",
        "\n",
        "\n",
        "\n",
        "\n",
        "\n"
      ],
      "execution_count": null,
      "outputs": [
        {
          "output_type": "stream",
          "name": "stdout",
          "text": [
            "30\n",
            "[ 39343  46205  37731  43525  39891  56642  60150  54445  64445  57189\n",
            "  63218  55794  56957  57081  61111  67938  66029  83088  81363  93940\n",
            "  91738  98273 101302 113812 109431 105582 116969 112635 122391 121872]\n",
            "[118024, 138610, 113188, 130570, 119668, 169921, 180445, 163330, 193330, 171562, 189649, 167377, 170866, 171238, 183328, 203809, 198082, 249259, 244084, 281815, 275209, 294814, 303901, 341431, 328288, 316741, 350902, 337900, 367168, 365611]\n",
            "780309031438\n"
          ]
        }
      ]
    },
    {
      "cell_type": "code",
      "metadata": {
        "id": "Gx8ZmIF7namH"
      },
      "source": [
        "\n",
        "\n"
      ],
      "execution_count": null,
      "outputs": []
    }
  ]
}