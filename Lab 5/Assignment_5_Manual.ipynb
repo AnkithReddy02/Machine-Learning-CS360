{
  "nbformat": 4,
  "nbformat_minor": 0,
  "metadata": {
    "colab": {
      "name": "Assignment 5 - Manual.ipynb",
      "provenance": [],
      "collapsed_sections": []
    },
    "kernelspec": {
      "name": "python3",
      "display_name": "Python 3"
    },
    "language_info": {
      "name": "python"
    }
  },
  "cells": [
    {
      "cell_type": "code",
      "metadata": {
        "id": "6bZAQUPJTN-c"
      },
      "source": [
        "import numpy as np\n",
        "import pandas as pd\n",
        "import matplotlib.pyplot as plt\n",
        "import random\n",
        "from sklearn.datasets import load_boston\n",
        "from sklearn.model_selection import train_test_split\n",
        "import math\n"
      ],
      "execution_count": null,
      "outputs": []
    },
    {
      "cell_type": "code",
      "metadata": {
        "colab": {
          "base_uri": "https://localhost:8080/"
        },
        "id": "iIDOZ-ATUlRj",
        "outputId": "ed6e3409-f12b-427d-a2fa-adcbb3449ded"
      },
      "source": [
        "boston_dataset= load_boston(return_X_y=False)\n",
        "data = pd.DataFrame(boston_dataset.data)\n",
        "max_val=max(data.max())\n",
        "max_val = max(max_val,abs(min(data.min())))\n",
        "\n",
        "data=data/max_val\n",
        "val = pd.DataFrame(boston_dataset.target)\n",
        "# data.insert(len(data.columns),len(data.columns),val)\n",
        "data[len(data.columns)] = val\n",
        "df = data\n",
        "print(df)\n",
        "a = np.array(df.values)\n",
        "a = a[:,0:len(a[0])-1]\n",
        "# print(a)\n",
        "# print(len(a[0]))"
      ],
      "execution_count": null,
      "outputs": [
        {
          "output_type": "stream",
          "name": "stdout",
          "text": [
            "           0         1         2    3   ...        10        11        12    13\n",
            "0    0.000009  0.025316  0.003249  0.0  ...  0.021519  0.558228  0.007004  24.0\n",
            "1    0.000038  0.000000  0.009944  0.0  ...  0.025035  0.558228  0.012855  21.6\n",
            "2    0.000038  0.000000  0.009944  0.0  ...  0.025035  0.552504  0.005668  34.7\n",
            "3    0.000046  0.000000  0.003066  0.0  ...  0.026301  0.555035  0.004135  33.4\n",
            "4    0.000097  0.000000  0.003066  0.0  ...  0.026301  0.558228  0.007496  36.2\n",
            "..        ...       ...       ...  ...  ...       ...       ...       ...   ...\n",
            "501  0.000088  0.000000  0.016779  0.0  ...  0.029536  0.551322  0.013601  22.4\n",
            "502  0.000064  0.000000  0.016779  0.0  ...  0.029536  0.558228  0.012771  20.6\n",
            "503  0.000085  0.000000  0.016779  0.0  ...  0.029536  0.558228  0.007932  23.9\n",
            "504  0.000154  0.000000  0.016779  0.0  ...  0.029536  0.553376  0.009114  22.0\n",
            "505  0.000067  0.000000  0.016779  0.0  ...  0.029536  0.558228  0.011083  11.9\n",
            "\n",
            "[506 rows x 14 columns]\n"
          ]
        }
      ]
    },
    {
      "cell_type": "code",
      "metadata": {
        "colab": {
          "base_uri": "https://localhost:8080/"
        },
        "id": "QecCSbtRWyJK",
        "outputId": "325f6579-4332-47e5-814e-a2e89a5ca6ea"
      },
      "source": [
        "\n",
        "train_set, reamining_set = train_test_split(df,train_size = 0.3)\n",
        "validation_set, test_set = train_test_split(df,train_size = 0.14)\n",
        "\n",
        "\n",
        "print((train_set))\n",
        "\n",
        "print((validation_set))\n",
        "print((test_set))\n",
        "\n",
        "\n"
      ],
      "execution_count": null,
      "outputs": [
        {
          "output_type": "stream",
          "name": "stdout",
          "text": [
            "           0         1         2    3   ...        10        11        12    13\n",
            "79   0.000118  0.000000  0.018045  0.0  ...  0.026301  0.557046  0.012799  20.3\n",
            "224  0.000444  0.000000  0.008720  0.0  ...  0.024473  0.541561  0.005823  44.8\n",
            "271  0.000228  0.028129  0.009789  0.0  ...  0.026160  0.558228  0.009269  25.2\n",
            "263  0.001161  0.028129  0.005584  0.0  ...  0.018284  0.553333  0.015823  31.0\n",
            "328  0.000093  0.000000  0.004557  0.0  ...  0.023769  0.537890  0.014023  19.3\n",
            "..        ...       ...       ...  ...  ...       ...       ...       ...   ...\n",
            "425  0.022307  0.000000  0.025457  0.0  ...  0.028411  0.010802  0.034304   8.3\n",
            "118  0.000184  0.000000  0.014079  0.0  ...  0.025035  0.476273  0.021617  20.4\n",
            "459  0.009566  0.000000  0.025457  0.0  ...  0.028411  0.558228  0.020675  20.0\n",
            "242  0.000145  0.042194  0.006934  0.0  ...  0.023347  0.524262  0.015781  22.2\n",
            "473  0.006536  0.000000  0.025457  0.0  ...  0.028411  0.526976  0.016399  29.8\n",
            "\n",
            "[151 rows x 14 columns]\n",
            "           0         1         2         3   ...        10        11        12    13\n",
            "414  0.064341  0.000000  0.025457  0.000000  ...  0.028411  0.124149  0.052011   7.0\n",
            "184  0.000117  0.000000  0.003460  0.000000  ...  0.025035  0.549930  0.019662  26.4\n",
            "213  0.000198  0.000000  0.014895  0.000000  ...  0.026160  0.542630  0.013193  28.1\n",
            "26   0.000945  0.000000  0.011449  0.000000  ...  0.029536  0.530070  0.020830  16.6\n",
            "218  0.000156  0.000000  0.019536  0.001406  ...  0.023066  0.558228  0.025204  21.5\n",
            "..        ...       ...       ...       ...  ...       ...       ...       ...   ...\n",
            "116  0.000185  0.000000  0.014079  0.000000  ...  0.025035  0.553165  0.016934  21.2\n",
            "219  0.000161  0.000000  0.019536  0.001406  ...  0.023066  0.553783  0.014768  23.0\n",
            "262  0.000732  0.028129  0.005584  0.000000  ...  0.018284  0.544107  0.008312  48.8\n",
            "42   0.000199  0.000000  0.009719  0.000000  ...  0.025176  0.539198  0.008172  25.3\n",
            "198  0.000053  0.112518  0.002138  0.000000  ...  0.017722  0.551617  0.009311  34.6\n",
            "\n",
            "[70 rows x 14 columns]\n",
            "           0         1         2         3   ...        10        11        12    13\n",
            "142  0.004671  0.000000  0.027539  0.001406  ...  0.020675  0.558228  0.037722  13.4\n",
            "478  0.014392  0.000000  0.025457  0.000000  ...  0.028411  0.534037  0.025359  14.6\n",
            "418  0.103423  0.000000  0.025457  0.000000  ...  0.028411  0.023136  0.029001   8.8\n",
            "53   0.000070  0.029536  0.007932  0.000000  ...  0.023629  0.558228  0.011857  23.4\n",
            "493  0.000244  0.000000  0.013629  0.000000  ...  0.027004  0.558228  0.016892  21.8\n",
            "..        ...       ...       ...       ...  ...       ...       ...       ...   ...\n",
            "208  0.000191  0.000000  0.014895  0.001406  ...  0.026160  0.536315  0.020619  24.4\n",
            "130  0.000478  0.000000  0.030788  0.000000  ...  0.029817  0.555612  0.017722  19.2\n",
            "420  0.015594  0.000000  0.025457  0.000000  ...  0.028411  0.448312  0.021125  16.7\n",
            "36   0.000137  0.000000  0.008383  0.000000  ...  0.027004  0.531027  0.016048  20.0\n",
            "92   0.000059  0.039381  0.021153  0.000000  ...  0.025598  0.555570  0.011477  22.9\n",
            "\n",
            "[436 rows x 14 columns]\n"
          ]
        }
      ]
    },
    {
      "cell_type": "code",
      "metadata": {
        "colab": {
          "base_uri": "https://localhost:8080/"
        },
        "id": "rHks6UTiYrDT",
        "outputId": "43633913-0ed1-43b8-ba2e-fa5633ecbf13"
      },
      "source": [
        "wi = ([random.randint(-3,3) for i in range(len(df.columns))])\n",
        "print(wi)\n",
        "\n",
        "\n"
      ],
      "execution_count": null,
      "outputs": [
        {
          "output_type": "stream",
          "name": "stdout",
          "text": [
            "[-3, 2, 3, 0, -3, -2, -3, 0, 3, 3, -3, 3, 1, 2]\n"
          ]
        }
      ]
    },
    {
      "cell_type": "code",
      "metadata": {
        "colab": {
          "base_uri": "https://localhost:8080/",
          "height": 1000
        },
        "id": "1oRq7VkWYg6E",
        "outputId": "c86bcdc6-d1f0-46ae-a4f9-9423983c7ab4"
      },
      "source": [
        "\n",
        "\n",
        "\n",
        "def cal_MSE(df, alpha, rho, epochs):\n",
        "\n",
        "  w = wi.copy()\n",
        "  n = len(df.columns)-1 #features\n",
        "  m = len(df) # patterns\n",
        "\n",
        "  a = df.values\n",
        "\n",
        "  col_names = list(df.columns)\n",
        "\n",
        "  x = a[:,0:n]\n",
        "  \n",
        "\n",
        "  # output\n",
        "  y = list(df[col_names[len(col_names)-1]])\n",
        "\n",
        "\n",
        "  \n",
        "  \n",
        "  \n",
        "\n",
        "\n",
        "\n",
        "\n",
        "  epoch_graph = []\n",
        "  mse_graph = []\n",
        "  \n",
        "\n",
        "  itr = 1\n",
        "  prevJ = 0\n",
        "  currJ = 0\n",
        "  \n",
        "\n",
        "  while itr <= epochs :\n",
        "\n",
        "    # print(itr)\n",
        "    # predicted\n",
        "    h = []\n",
        "\n",
        "    J = 0\n",
        "\n",
        "    for i in range(m):\n",
        "      predicted_value = w[0]\n",
        "      for j in range(1,len(w)):\n",
        "        predicted_value = predicted_value + w[j]*(x[i][j-1])\n",
        "      h.append(predicted_value)\n",
        "      J = J + pow(predicted_value - y[i],2)\n",
        "      for k in range(len(w)):\n",
        "        if k==0:\n",
        "          sum = 0\n",
        "          sum = sum + h[i] - y[i]\n",
        "\n",
        "          w[0] = w[0] - (alpha)*(sum)\n",
        "\n",
        "        else:\n",
        "          sum = 0\n",
        "          sum = sum + (h[i]-y[i])*(x[i][k-1])\n",
        "\n",
        "          w[k] = w[k] - (alpha)*(sum)\n",
        "\n",
        "    J = J/(2*m)\n",
        "\n",
        "    currJ = J\n",
        "    \n",
        "\n",
        "    mse_graph.append(J)\n",
        "    epoch_graph.append(itr)\n",
        "\n",
        "    if(abs(currJ - prevJ) < rho):\n",
        "      break\n",
        "\n",
        "    prevJ = currJ\n",
        "    itr = itr + 1\n",
        "\n",
        "\n",
        "\n",
        "\n",
        "\n",
        "\n",
        "  plt.plot(epoch_graph,mse_graph)\n",
        "  plt.xlabel(\"EPOCHS\")\n",
        "  # naming the y axis\n",
        "  plt.ylabel(\"MSE\")\n",
        "  plt.show()\n",
        "    \n",
        "  \n",
        "\n",
        "  return [currJ,w]\n",
        "\n",
        "\n",
        "\n",
        "\n",
        "\n",
        "\n",
        "\n",
        "alphaarr = np.array([0.1,0.001,0.02,0.03,0.001])\n",
        "rhoarr = np.array([0.5,0.6,0.7,0.8,0.9])\n",
        "epocharr = np.array([10,20,30,40,50])\n",
        "\n",
        "minMSE = math.inf\n",
        "minMSEindex = 0\n",
        "print(minMSE)\n",
        "\n",
        "minMSEw = []\n",
        "for i in range(len(alphaarr)):\n",
        "  p = cal_MSE(validation_set,alphaarr[i],rhoarr[i],epocharr[i])\n",
        "  print(p[0])\n",
        "  if(minMSE > p[0]):\n",
        "    minMSE = p[0]\n",
        "    minMSEindex = i\n",
        "    minMSEw = p[1]\n",
        "\n",
        "print(minMSEindex)\n",
        "\n"
      ],
      "execution_count": null,
      "outputs": [
        {
          "output_type": "stream",
          "name": "stdout",
          "text": [
            "inf\n"
          ]
        },
        {
          "output_type": "display_data",
          "data": {
            "image/png": "[encoded data removed]",
            "text/plain": [
              "<Figure size 432x288 with 1 Axes>"
            ]
          },
          "metadata": {
            "needs_background": "light"
          }
        },
        {
          "output_type": "stream",
          "name": "stdout",
          "text": [
            "59.0895698428797\n"
          ]
        },
        {
          "output_type": "display_data",
          "data": {
            "image/png": "[encoded data removed]",
            "text/plain": [
              "<Figure size 432x288 with 1 Axes>"
            ]
          },
          "metadata": {
            "needs_background": "light"
          }
        },
        {
          "output_type": "stream",
          "name": "stdout",
          "text": [
            "75.07790438921788\n"
          ]
        },
        {
          "output_type": "display_data",
          "data": {
            "image/png": "[encoded data removed]",
            "text/plain": [
              "<Figure size 432x288 with 1 Axes>"
            ]
          },
          "metadata": {
            "needs_background": "light"
          }
        },
        {
          "output_type": "stream",
          "name": "stdout",
          "text": [
            "57.68253465797396\n"
          ]
        },
        {
          "output_type": "display_data",
          "data": {
            "image/png": "[encoded data removed]",
            "text/plain": [
              "<Figure size 432x288 with 1 Axes>"
            ]
          },
          "metadata": {
            "needs_background": "light"
          }
        },
        {
          "output_type": "stream",
          "name": "stdout",
          "text": [
            "57.17211592064584\n"
          ]
        },
        {
          "output_type": "display_data",
          "data": {
            "image/png": "[encoded data removed]",
            "text/plain": [
              "<Figure size 432x288 with 1 Axes>"
            ]
          },
          "metadata": {
            "needs_background": "light"
          }
        },
        {
          "output_type": "stream",
          "name": "stdout",
          "text": [
            "72.05544925333376\n",
            "3\n"
          ]
        }
      ]
    },
    {
      "cell_type": "code",
      "metadata": {
        "colab": {
          "base_uri": "https://localhost:8080/",
          "height": 683
        },
        "id": "cd9_JmEGZMCq",
        "outputId": "4d66b9e8-f133-4c4a-8c29-451d6a073816"
      },
      "source": [
        "p = cal_MSE(train_set,alphaarr[minMSEindex],rhoarr[minMSEindex],epocharr[minMSEindex])\n",
        "print('TrainMSE : ', p[0])\n",
        "n = len(test_set.columns)-1 #features\n",
        "m = len(test_set) # patterns\n",
        "print(m)\n",
        "minMSEw = p[1]\n",
        "predicted_value = 0\n",
        "\n",
        "df = test_set\n",
        "a = df.values\n",
        "\n",
        "col_names = list(df.columns)\n",
        "\n",
        "x = a[:,0:n]\n",
        "  \n",
        "\n",
        "  # output\n",
        "y = list(df[col_names[len(col_names)-1]])\n",
        "\n",
        "\n",
        "J = 0\n",
        "print(len(minMSEw))\n",
        "print(m)\n",
        "print(len(x))\n",
        "for i in range(m):\n",
        "  predicted_value = minMSEw[0]\n",
        "  for j in range(1,len(minMSEw)):\n",
        "    predicted_value = predicted_value + minMSEw[j]*(x[i][j-1])\n",
        "  J = J + pow(predicted_value - y[i],2)\n",
        "\n",
        "print('TestMSE : ', J)\n",
        "print('ValidationMSE : ', cal_MSE(validation_set,alphaarr[minMSEindex],rhoarr[minMSEindex],epocharr[minMSEindex]))\n"
      ],
      "execution_count": null,
      "outputs": [
        {
          "output_type": "display_data",
          "data": {
            "image/png": "[encoded data removed]",
            "text/plain": [
              "<Figure size 432x288 with 1 Axes>"
            ]
          },
          "metadata": {
            "needs_background": "light"
          }
        },
        {
          "output_type": "stream",
          "name": "stdout",
          "text": [
            "TrainMSE :  23.94007161864935\n",
            "436\n",
            "14\n",
            "436\n",
            "436\n",
            "TestMSE :  25594.748807879405\n"
          ]
        },
        {
          "output_type": "display_data",
          "data": {
            "image/png": "[encoded data removed]",
            "text/plain": [
              "<Figure size 432x288 with 1 Axes>"
            ]
          },
          "metadata": {
            "needs_background": "light"
          }
        },
        {
          "output_type": "stream",
          "name": "stdout",
          "text": [
            "ValidationMSE :  [57.17211592064584, [21.378126949154606, 1.3189675271538233, 6.787200068759343, -0.6416039322819662, -2.978706780777225, -1.9976196037938336, -2.6057102947062023, -0.7211218123101913, 3.2312506216915517, 2.709702175484674, -7.988461716616432, 3.334649648628297, 17.12826150284216, 0.8708547556000095]]\n"
          ]
        }
      ]
    }
  ]
}