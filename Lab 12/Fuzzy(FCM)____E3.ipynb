{
  "nbformat": 4,
  "nbformat_minor": 0,
  "metadata": {
    "colab": {
      "name": "Fuzzy(FCM) || E3.ipynb",
      "provenance": [],
      "collapsed_sections": []
    },
    "kernelspec": {
      "name": "python3",
      "display_name": "Python 3"
    },
    "language_info": {
      "name": "python"
    }
  },
  "cells": [
    {
      "cell_type": "code",
      "metadata": {
        "colab": {
          "base_uri": "https://localhost:8080/",
          "height": 602
        },
        "id": "wSMjhDc7fXZI",
        "outputId": "dfb761a1-2d6c-4c15-a5e6-2e9a41f19db8"
      },
      "source": [
        "\n",
        "\n",
        "import numpy as np\n",
        "import pandas as pd\n",
        "import matplotlib.pyplot as plt\n",
        "import random\n",
        "from sklearn.datasets import load_boston\n",
        "from sklearn import datasets\n",
        "from sklearn.model_selection import train_test_split\n",
        "import math\n",
        "from sklearn import metrics\n",
        "from random import randrange\n",
        "from sklearn.cluster import KMeans\n",
        "\n",
        "\n",
        "data = pd.DataFrame((datasets.load_iris()).data)\n",
        "target = pd.DataFrame((datasets.load_iris()).target)\n",
        "\n",
        "\n",
        "df = data;\n",
        "df = df.sample(frac = 1)\n",
        "\n",
        "\n",
        "\n",
        "def intializeMembership(n,c):\n",
        "  \n",
        "  myu = []\n",
        "\n",
        "  for i in range(n):\n",
        "    x = []\n",
        "    for j in range(c):\n",
        "      x.append(random.uniform(0,1))\n",
        "\n",
        "    myu.append(x)\n",
        "\n",
        "  for i in range(n):\n",
        "    s = 0\n",
        "    for x in myu[i]:\n",
        "      s += x\n",
        "    myu[i] = [x/s for x in myu[i]]\n",
        "\n",
        "  return myu\n",
        "\n",
        "\n",
        "def SSE(c,a,assignment):\n",
        "\n",
        "  sse = 0\n",
        "  for i in range(len(a)):\n",
        "    sse += np.linalg.norm(a[i] - c[assignment[i]]) * np.linalg.norm(a[i] - c[assignment[i]])\n",
        "\n",
        "  return sse\n",
        "\n",
        "\n",
        "\n",
        "\n",
        "def FCM(df,k,m,maxIterations):\n",
        "\n",
        "  myu = intializeMembership(len(df),k)\n",
        "\n",
        "  a = list(df.values)\n",
        "  n = len(a)\n",
        "  numFeatures = len(a[0])\n",
        "\n",
        "  # finding centers ( number of clusters * number of features)\n",
        "  c = [[0 for j in range(numFeatures)] for i in range(k)]\n",
        "\n",
        "  \n",
        "\n",
        "  \n",
        "\n",
        "\n",
        "\n",
        "  itr = 1\n",
        "\n",
        "  while itr <= maxIterations:\n",
        "\n",
        "    \n",
        "    \n",
        "    for j in range(k):\n",
        "      numerator = []\n",
        "      denominator = 0\n",
        "      for i in range(n):\n",
        "        numerator.append([x*pow(myu[i][j],m) for x in a[i]])\n",
        "        denominator += pow(myu[i][j],m)\n",
        "\n",
        "      numerator = np.array(numerator)\n",
        "\n",
        "      numerator = numerator.sum(axis = 0) \n",
        "\n",
        "      c[j] = [x/denominator for x in numerator]\n",
        "    \n",
        "    for i in range(n):\n",
        "      for j in range(k):\n",
        "        sum = 0\n",
        "        for l in range(k):\n",
        "          sum += pow(np.linalg.norm(a[i] - c[j])/np.linalg.norm(a[i] - c[l]),2/(m-1))\n",
        "        \n",
        "        myu[i][j] = 1/sum\n",
        "\n",
        "    itr += 1\n",
        "\n",
        "  \n",
        "  assignment = []\n",
        "\n",
        " \n",
        "  for i in range(n):\n",
        "    assignment.append(np.argmax(myu[i]))\n",
        "\n",
        "  return c,myu,assignment\n",
        "\n",
        "def plotData(a,c,k,assignment):\n",
        "\n",
        "  #Getting unique labels\n",
        "  \n",
        "  df = pd.DataFrame(a)\n",
        "  df['label'] = assignment\n",
        "  centroids = pd.DataFrame(c)\n",
        "\n",
        "  u_labels = np.unique(assignment)\n",
        "  \n",
        "  #plotting the results:\n",
        "\n",
        "  for i in u_labels:\n",
        "    plt.scatter(df[df['label']==i][0] , df[df['label'] == i][1] , label = i)\n",
        "  plt.scatter(centroids[0] , centroids[1], s=100,label = 'centroid')\n",
        "\n",
        "  plt.legend()\n",
        "  plt.show()  \n",
        "  \n",
        "# number of clusters\n",
        "k = 3\n",
        "\n",
        "# degree of fuzzification : usually 2\n",
        "m = 2\n",
        "\n",
        "a = list(df.values)\n",
        "\n",
        "c,myu,assignment = FCM(df,k,m,50)\n",
        "\n",
        "print(SSE(c,a,assignment))\n",
        "# print(myu)\n",
        "print(assignment)\n",
        "\n",
        "\n",
        "plotData(a,c,k,assignment)\n",
        "\n",
        "    \n",
        "print('Silhouette Score : ',metrics.silhouette_score(a,assignment, metric='euclidean'))\n",
        "\n",
        "\n",
        "sselist = []\n",
        "klist = []\n",
        "for i in range(1,11):\n",
        "  c,myu,assignment = FCM(df,i,m,100)\n",
        "  sselist.append(SSE(c,a,assignment))\n",
        "  klist.append(i) \n",
        "\n",
        "plt.plot(klist,sselist,label=str('Elbow'))\n",
        "plt.xlabel(\"K\")\n",
        "# naming the y axis\n",
        "plt.ylabel(\"SSE\")\n",
        "plt.legend()\n",
        "plt.show()\n",
        "\n",
        "\n",
        "\n",
        "\n",
        "\n",
        "    \n",
        "\n",
        "    \n",
        "\n",
        "\n",
        "\n",
        "\n",
        "\n",
        "  \n"
      ],
      "execution_count": 2,
      "outputs": [
        {
          "output_type": "stream",
          "name": "stdout",
          "text": [
            "79.36344239452794\n",
            "[1, 2, 1, 2, 2, 2, 2, 1, 2, 2, 1, 1, 0, 2, 0, 2, 1, 2, 0, 0, 0, 0, 2, 2, 2, 0, 1, 0, 1, 0, 2, 0, 0, 2, 1, 2, 1, 1, 2, 1, 2, 2, 2, 2, 2, 2, 0, 1, 2, 0, 1, 1, 1, 2, 2, 1, 0, 0, 1, 2, 2, 0, 2, 1, 0, 2, 2, 2, 1, 1, 2, 2, 1, 1, 2, 0, 2, 2, 2, 1, 1, 1, 2, 0, 0, 1, 1, 1, 2, 1, 1, 0, 2, 1, 2, 2, 2, 1, 1, 1, 1, 2, 2, 0, 2, 2, 1, 1, 0, 0, 0, 1, 0, 1, 2, 1, 0, 0, 0, 2, 1, 2, 2, 0, 0, 2, 0, 2, 2, 2, 2, 1, 1, 2, 1, 2, 0, 0, 1, 2, 1, 0, 0, 0, 1, 0, 0, 1, 0, 1]\n"
          ]
        },
        {
          "output_type": "display_data",
          "data": {
            "image/png": "[encoded data removed]",
            "text/plain": [
              "<Figure size 432x288 with 1 Axes>"
            ]
          },
          "metadata": {
            "needs_background": "light"
          }
        },
        {
          "output_type": "stream",
          "name": "stdout",
          "text": [
            "Silhouette Score :  0.5495175126471616\n"
          ]
        },
        {
          "output_type": "display_data",
          "data": {
            "image/png": "[encoded data removed]",
            "text/plain": [
              "<Figure size 432x288 with 1 Axes>"
            ]
          },
          "metadata": {
            "needs_background": "light"
          }
        }
      ]
    },
    {
      "cell_type": "code",
      "metadata": {
        "id": "S552ekih-3Xs",
        "colab": {
          "base_uri": "https://localhost:8080/"
        },
        "outputId": "b8fb0cd0-4843-41db-b1e8-83a913177a4d"
      },
      "source": [
        "# Inbuilt Implementation.\n",
        "kmeans = KMeans(n_clusters=3, random_state=0).fit(df)\n",
        "\n",
        "labels = kmeans.labels_\n",
        "centroids = kmeans.cluster_centers_\n",
        "\n",
        "score = metrics.silhouette_score(df, labels, metric='euclidean')\n",
        "print('Silhouetter Score: %.3f' % score)"
      ],
      "execution_count": 3,
      "outputs": [
        {
          "output_type": "stream",
          "name": "stdout",
          "text": [
            "Silhouetter Score: 0.553\n"
          ]
        }
      ]
    },
    {
      "cell_type": "markdown",
      "metadata": {
        "id": "e8VYJ9tAAbvz"
      },
      "source": [
        "Silhouetter Score is almost same for both the KMeans and Fuzzy Clustering"
      ]
    }
  ]
}